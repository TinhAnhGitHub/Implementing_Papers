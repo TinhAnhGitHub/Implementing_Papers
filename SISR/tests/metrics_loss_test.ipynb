{
 "cells": [
  {
   "cell_type": "code",
   "execution_count": 1,
   "metadata": {},
   "outputs": [],
   "source": [
    "import sys\n",
    "sys.path.append('D:\\\\BachKhoa\\\\AIO-Projects\\\\Implementing_Papers\\\\SISR')"
   ]
  },
  {
   "cell_type": "code",
   "execution_count": 2,
   "metadata": {},
   "outputs": [],
   "source": [
    "from utils import SSIM, PSNR, PatchLoss,MetricConfig,ImageOrder\n",
    "import numpy as np"
   ]
  },
  {
   "cell_type": "code",
   "execution_count": 3,
   "metadata": {},
   "outputs": [],
   "source": [
    "img1 = np.random.randint(0, 255, (100, 100, 3), dtype=np.uint8)\n",
    "img2 = np.random.randint(0, 255, (100, 100, 3), dtype=np.uint8)"
   ]
  },
  {
   "cell_type": "code",
   "execution_count": 4,
   "metadata": {},
   "outputs": [
    {
     "name": "stdout",
     "output_type": "stream",
     "text": [
      "PSNR: 7.79 dB\n",
      "SSIM: -0.0006\n"
     ]
    }
   ],
   "source": [
    "config = MetricConfig(\n",
    "    crop_border=4,\n",
    "    input_order=ImageOrder.HWC,\n",
    "    test_y_channel=True\n",
    ")\n",
    "\n",
    "psnr_metric = PSNR(config)\n",
    "ssim_metric = SSIM(config)\n",
    "\n",
    "# Calculate metrics\n",
    "psnr_value = psnr_metric.cal_loss(img1, img2)\n",
    "ssim_value = ssim_metric.cal_loss(img1, img2)\n",
    "\n",
    "print(f\"PSNR: {psnr_value:.2f} dB\")\n",
    "print(f\"SSIM: {ssim_value:.4f}\")"
   ]
  },
  {
   "cell_type": "code",
   "execution_count": 5,
   "metadata": {},
   "outputs": [],
   "source": [
    "import torch\n",
    "from omegaconf import OmegaConf\n",
    "import torch.nn.functional as F"
   ]
  },
  {
   "cell_type": "code",
   "execution_count": 6,
   "metadata": {},
   "outputs": [],
   "source": [
    "config_dict = {\n",
    "    'patch_loss_config': {\n",
    "        'image_patch_sizes': [3, 5, 7],  # Patch sizes for the image kernels\n",
    "        'feature_patch_sizes': [3, 5,7],  # Patch sizes for the feature kernels\n",
    "        'kappa': 0.5,  # Weight for feature loss\n",
    "        'eps': 1e-8  # Epsilon value for numerical stability\n",
    "    }\n",
    "}"
   ]
  },
  {
   "cell_type": "code",
   "execution_count": 7,
   "metadata": {},
   "outputs": [
    {
     "name": "stdout",
     "output_type": "stream",
     "text": [
      "torch.Size([2, 1, 256, 256])\n",
      "torch.Size([2, 1, 256, 256])\n",
      "torch.Size([2, 1, 256, 256])\n",
      "torch.Size([2, 1, 256, 256])\n",
      "torch.Size([2, 1, 256, 256])\n",
      "torch.Size([2, 1, 256, 256])\n",
      "torch.Size([2, 3, 256, 256])\n",
      "torch.Size([2, 3, 256, 256])\n",
      "torch.Size([2, 3, 256, 256])\n",
      "torch.Size([2, 3, 256, 256])\n",
      "torch.Size([2, 3, 256, 256])\n",
      "torch.Size([2, 3, 256, 256])\n"
     ]
    }
   ],
   "source": [
    "config = OmegaConf.create(config_dict)\n",
    "\n",
    "patch_loss = PatchLoss(config)\n",
    "\n",
    "\n",
    "sr = torch.randn(2, 3, 256, 256)  \n",
    "hr = torch.randn(2, 3, 256, 256) \n",
    "\n",
    "sr_features = torch.randn(2, 3, 256, 256)  \n",
    "hr_features = torch.randn(2, 3, 256, 256)  #\n",
    "\n",
    "# Compute the loss\n",
    "loss = patch_loss(sr, hr, sr_features, hr_features)"
   ]
  },
  {
   "cell_type": "code",
   "execution_count": null,
   "metadata": {},
   "outputs": [],
   "source": []
  }
 ],
 "metadata": {
  "kernelspec": {
   "display_name": "AICChallenge2024",
   "language": "python",
   "name": "python3"
  },
  "language_info": {
   "codemirror_mode": {
    "name": "ipython",
    "version": 3
   },
   "file_extension": ".py",
   "mimetype": "text/x-python",
   "name": "python",
   "nbconvert_exporter": "python",
   "pygments_lexer": "ipython3",
   "version": "3.11.8"
  }
 },
 "nbformat": 4,
 "nbformat_minor": 2
}
